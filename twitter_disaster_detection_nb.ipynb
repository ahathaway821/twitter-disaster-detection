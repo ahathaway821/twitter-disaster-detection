{
  "nbformat": 4,
  "nbformat_minor": 0,
  "metadata": {
    "colab": {
      "name": "twitter-disaster-detection-nb.ipynb",
      "provenance": [],
      "collapsed_sections": [],
      "toc_visible": true
    },
    "kernelspec": {
      "name": "python3",
      "display_name": "Python 3"
    }
  },
  "cells": [
    {
      "cell_type": "markdown",
      "metadata": {
        "id": "0Pel_Vvc7src",
        "colab_type": "text"
      },
      "source": [
        "## Naive Bayes Baseline Implementation"
      ]
    },
    {
      "cell_type": "code",
      "metadata": {
        "id": "uVJpc3oFwr1V",
        "colab_type": "code",
        "colab": {}
      },
      "source": [
        "import numpy as np\n",
        "import pandas as pd\n",
        "import matplotlib.pyplot as plt\n",
        "\n",
        "from sklearn.model_selection import train_test_split\n",
        "from sklearn.naive_bayes import GaussianNB\n",
        "from sklearn.naive_bayes import MultinomialNB\n",
        "from sklearn.feature_extraction.text import CountVectorizer\n",
        "from sklearn.metrics import accuracy_score, precision_score, recall_score"
      ],
      "execution_count": 0,
      "outputs": []
    },
    {
      "cell_type": "markdown",
      "metadata": {
        "id": "SWDdWGrG6vCA",
        "colab_type": "text"
      },
      "source": [
        "### Load Data"
      ]
    },
    {
      "cell_type": "code",
      "metadata": {
        "id": "yk-kf20jw3KP",
        "colab_type": "code",
        "colab": {}
      },
      "source": [
        "train_data_raw = pd.read_csv(\"./train.csv\", encoding=\"ISO-8859-1\") #utf-8 doesn't play nice\n",
        "test_data_raw = pd.read_csv(\"./test.csv\", encoding=\"ISO-8859-1\")"
      ],
      "execution_count": 0,
      "outputs": []
    },
    {
      "cell_type": "code",
      "metadata": {
        "id": "7niXwl62xiJT",
        "colab_type": "code",
        "outputId": "f041580e-ce5e-4b61-e42a-3d2dfa307ed1",
        "colab": {
          "base_uri": "https://localhost:8080/",
          "height": 197
        }
      },
      "source": [
        "train_data_raw.head()"
      ],
      "execution_count": 0,
      "outputs": [
        {
          "output_type": "execute_result",
          "data": {
            "text/html": [
              "<div>\n",
              "<style scoped>\n",
              "    .dataframe tbody tr th:only-of-type {\n",
              "        vertical-align: middle;\n",
              "    }\n",
              "\n",
              "    .dataframe tbody tr th {\n",
              "        vertical-align: top;\n",
              "    }\n",
              "\n",
              "    .dataframe thead th {\n",
              "        text-align: right;\n",
              "    }\n",
              "</style>\n",
              "<table border=\"1\" class=\"dataframe\">\n",
              "  <thead>\n",
              "    <tr style=\"text-align: right;\">\n",
              "      <th></th>\n",
              "      <th>tweetid</th>\n",
              "      <th>text</th>\n",
              "      <th>disaster_type</th>\n",
              "      <th>disaster</th>\n",
              "      <th>Unnamed: 4</th>\n",
              "    </tr>\n",
              "  </thead>\n",
              "  <tbody>\n",
              "    <tr>\n",
              "      <th>0</th>\n",
              "      <td>10001</td>\n",
              "      <td>@TheEllenShow Please check into Salt River hor...</td>\n",
              "      <td>NaN</td>\n",
              "      <td>0</td>\n",
              "      <td>NaN</td>\n",
              "    </tr>\n",
              "    <tr>\n",
              "      <th>1</th>\n",
              "      <td>10002</td>\n",
              "      <td>As for the hurricane, it's already category 1 ...</td>\n",
              "      <td>hurricane</td>\n",
              "      <td>1</td>\n",
              "      <td>NaN</td>\n",
              "    </tr>\n",
              "    <tr>\n",
              "      <th>2</th>\n",
              "      <td>10003</td>\n",
              "      <td>So it looks like my @SoundCloud profile shall ...</td>\n",
              "      <td>NaN</td>\n",
              "      <td>0</td>\n",
              "      <td>NaN</td>\n",
              "    </tr>\n",
              "    <tr>\n",
              "      <th>3</th>\n",
              "      <td>10004</td>\n",
              "      <td>@SushmaSwaraj Am sure background check of the ...</td>\n",
              "      <td>NaN</td>\n",
              "      <td>0</td>\n",
              "      <td>NaN</td>\n",
              "    </tr>\n",
              "    <tr>\n",
              "      <th>4</th>\n",
              "      <td>10005</td>\n",
              "      <td>Open forex detonation indicator is irretrievab...</td>\n",
              "      <td>NaN</td>\n",
              "      <td>0</td>\n",
              "      <td>NaN</td>\n",
              "    </tr>\n",
              "  </tbody>\n",
              "</table>\n",
              "</div>"
            ],
            "text/plain": [
              "   tweetid  ... Unnamed: 4\n",
              "0    10001  ...        NaN\n",
              "1    10002  ...        NaN\n",
              "2    10003  ...        NaN\n",
              "3    10004  ...        NaN\n",
              "4    10005  ...        NaN\n",
              "\n",
              "[5 rows x 5 columns]"
            ]
          },
          "metadata": {
            "tags": []
          },
          "execution_count": 35
        }
      ]
    },
    {
      "cell_type": "markdown",
      "metadata": {
        "id": "0Oau2ow66yb4",
        "colab_type": "text"
      },
      "source": [
        "### EDA"
      ]
    },
    {
      "cell_type": "code",
      "metadata": {
        "id": "6uLpugJ-4raz",
        "colab_type": "code",
        "colab": {}
      },
      "source": [
        "disaster_type_none_label = 'none'\n",
        "train_data = train_data_raw.replace(np.nan, disaster_type_none_label, regex=True)\n",
        "test_data = test_data_raw.replace(np.nan, disaster_type_none_label, regex=True)"
      ],
      "execution_count": 0,
      "outputs": []
    },
    {
      "cell_type": "code",
      "metadata": {
        "id": "Dhv0yaSN6Sc8",
        "colab_type": "code",
        "outputId": "3580f476-a5fe-4a02-daeb-bd80a13c6894",
        "colab": {
          "base_uri": "https://localhost:8080/",
          "height": 312
        }
      },
      "source": [
        "plt.hist(train_data['disaster_type'])\n",
        "plt.title('Disaster Type Distribution')\n",
        "plt.xlabel('Disaster Type')\n",
        "plt.ylabel('# of Occurances')"
      ],
      "execution_count": 0,
      "outputs": [
        {
          "output_type": "execute_result",
          "data": {
            "text/plain": [
              "Text(0, 0.5, '# of Occurances')"
            ]
          },
          "metadata": {
            "tags": []
          },
          "execution_count": 69
        },
        {
          "output_type": "display_data",
          "data": {
            "image/png": "[encoded data removed]",
            "text/plain": [
              "<Figure size 432x288 with 1 Axes>"
            ]
          },
          "metadata": {
            "tags": []
          }
        }
      ]
    },
    {
      "cell_type": "code",
      "metadata": {
        "id": "7Qgmqdke6qYS",
        "colab_type": "code",
        "outputId": "bb179cc3-81bb-402d-cf44-c82e8c95170d",
        "colab": {
          "base_uri": "https://localhost:8080/",
          "height": 123
        }
      },
      "source": [
        "# Percentage Breakdown\n",
        "train_data['disaster_type'].value_counts(normalize=True) * 100"
      ],
      "execution_count": 0,
      "outputs": [
        {
          "output_type": "execute_result",
          "data": {
            "text/plain": [
              "none          79.885877\n",
              "earthquake     8.559201\n",
              "hurricane      7.132668\n",
              "flood          3.359486\n",
              "fire           1.062767\n",
              "Name: disaster_type, dtype: float64"
            ]
          },
          "metadata": {
            "tags": []
          },
          "execution_count": 60
        }
      ]
    },
    {
      "cell_type": "markdown",
      "metadata": {
        "id": "i3BWObhs618K",
        "colab_type": "text"
      },
      "source": [
        "### Validation Splits"
      ]
    },
    {
      "cell_type": "code",
      "metadata": {
        "id": "4fWNgZ5mxv1J",
        "colab_type": "code",
        "colab": {}
      },
      "source": [
        "train, valid = train_test_split(train_data, test_size=0.75, random_state=0)\n",
        "\n",
        "train_x = train.iloc[:, 0:2]\n",
        "train_y = train.iloc[:,2]\n",
        "train_y_is_disaster = train.iloc[:,3]\n",
        "\n",
        "valid_x = valid.iloc[:, 0:2]\n",
        "valid_y = valid.iloc[:,2]\n",
        "valid_y_is_disaster = valid.iloc[:,3]"
      ],
      "execution_count": 0,
      "outputs": []
    },
    {
      "cell_type": "markdown",
      "metadata": {
        "id": "lQleVJxm66cu",
        "colab_type": "text"
      },
      "source": [
        "### Vectorizer and Fit for Naive Bayes - By Disaster Type"
      ]
    },
    {
      "cell_type": "code",
      "metadata": {
        "id": "OJJQVrHLyEb7",
        "colab_type": "code",
        "colab": {}
      },
      "source": [
        "vectorizer = CountVectorizer(strip_accents=\"ascii\", \n",
        "                             token_pattern=u\"(?ui)\\\\b\\\\w*[a-z]+\\\\w*\\\\b\", \n",
        "                             lowercase=True, \n",
        "                             stop_words=\"english\")"
      ],
      "execution_count": 0,
      "outputs": []
    },
    {
      "cell_type": "code",
      "metadata": {
        "id": "lPb842Gf4Fyy",
        "colab_type": "code",
        "colab": {}
      },
      "source": [
        "train_x_cv = vectorizer.fit_transform(train_x['text'])\n",
        "valid_x_cv = vectorizer.transform(valid_x['text'])"
      ],
      "execution_count": 0,
      "outputs": []
    },
    {
      "cell_type": "code",
      "metadata": {
        "id": "D2yG3eCR4YKI",
        "colab_type": "code",
        "colab": {}
      },
      "source": [
        "naive_bayes = MultinomialNB()\n",
        "naive_bayes.fit(train_x_cv, train_y)\n",
        "predictions = naive_bayes.predict(valid_x_cv)"
      ],
      "execution_count": 0,
      "outputs": []
    },
    {
      "cell_type": "code",
      "metadata": {
        "id": "ae2WP2qc5TYp",
        "colab_type": "code",
        "outputId": "7180dfde-ca60-4bc5-a8fa-af0e23ec2f4e",
        "colab": {
          "base_uri": "https://localhost:8080/",
          "height": 70
        }
      },
      "source": [
        "print(\"Accuracy score: \", accuracy_score(valid_y, predictions))\n",
        "print(\"Precision score: \", precision_score(valid_y, predictions, average='macro'))\n",
        "print(\"Recall score: \", recall_score(valid_y, predictions, average='macro'))"
      ],
      "execution_count": 0,
      "outputs": [
        {
          "output_type": "stream",
          "text": [
            "Accuracy score:  0.938754160722777\n",
            "Precision score:  0.9638532351122363\n",
            "Recall score:  0.6166863344765846\n"
          ],
          "name": "stdout"
        }
      ]
    },
    {
      "cell_type": "markdown",
      "metadata": {
        "id": "TskXMAi57FGO",
        "colab_type": "text"
      },
      "source": [
        "### Vectorizer and Fit for Naive Bayes - By Disaster Present"
      ]
    },
    {
      "cell_type": "code",
      "metadata": {
        "id": "jJ9OmLJc7JRa",
        "colab_type": "code",
        "colab": {}
      },
      "source": [
        "vectorizer = CountVectorizer(strip_accents=\"ascii\", \n",
        "                             token_pattern=u\"(?ui)\\\\b\\\\w*[a-z]+\\\\w*\\\\b\", \n",
        "                             lowercase=True, \n",
        "                             stop_words=\"english\")\n",
        "\n",
        "train_x_cv = vectorizer.fit_transform(train_x['text'])\n",
        "valid_x_cv = vectorizer.transform(valid_x['text'])\n",
        "\n",
        "naive_bayes = MultinomialNB()\n",
        "naive_bayes.fit(train_x_cv, train_y_is_disaster)\n",
        "predictions = naive_bayes.predict(valid_x_cv)"
      ],
      "execution_count": 0,
      "outputs": []
    },
    {
      "cell_type": "code",
      "metadata": {
        "id": "sbdMmEri7MfD",
        "colab_type": "code",
        "outputId": "0b6aa48a-ba81-47d6-923d-73a4a66dcce7",
        "colab": {
          "base_uri": "https://localhost:8080/",
          "height": 70
        }
      },
      "source": [
        "print(\"Accuracy score: \", accuracy_score(valid_y_is_disaster, predictions))\n",
        "print(\"Precision score: \", precision_score(valid_y_is_disaster, predictions))\n",
        "print(\"Recall score: \", recall_score(valid_y_is_disaster, predictions))"
      ],
      "execution_count": 0,
      "outputs": [
        {
          "output_type": "stream",
          "text": [
            "Accuracy score:  0.9643366619115549\n",
            "Precision score:  0.9436262061960387\n",
            "Recall score:  0.8755890669180019\n"
          ],
          "name": "stdout"
        }
      ]
    }
  ]
}